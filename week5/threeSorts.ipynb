{
 "cells": [
  {
   "cell_type": "code",
   "execution_count": 2,
   "metadata": {},
   "outputs": [
    {
     "name": "stdout",
     "output_type": "stream",
     "text": [
      "4\n"
     ]
    }
   ],
   "source": [
    "def trinarySearch (arr, minimum, maximum, x): \n",
    "    if maximum >= minimum: \n",
    "  \n",
    "        onethird = (minimum + maximum) // 3\n",
    "        twothird = ((minimum + maximum) // 3) * 2\n",
    "  \n",
    "        if arr[onethird] == x or arr[twothird] == x: \n",
    "            if arr[onethird] == x:\n",
    "                return onethird\n",
    "            else:\n",
    "                return twothird\n",
    "          \n",
    "        elif arr[onethird] > x and x < arr[twothird]: \n",
    "            return trinarySearch(arr, onethird, twothird - 1, x) \n",
    "            \n",
    "        elif x > arr[onethird] and x > arr[twothird]:\n",
    "            return trinarySearch(arr, twothird, maximum, x)\n",
    "        \n",
    "        elif x < arr[onethird] and x < arr[twothird]:\n",
    "            return trinarySearch(arr, minimum, onethird , x)\n",
    "  \n",
    "    else: \n",
    "        return -1\n",
    "    \n",
    "arr = [2,3,4,5,15]\n",
    "\n",
    "result = trinarySearch(arr, 0, len(arr)-1, 15) \n",
    "print(result)"
   ]
  },
  {
   "cell_type": "code",
   "execution_count": null,
   "metadata": {},
   "outputs": [],
   "source": []
  },
  {
   "cell_type": "code",
   "execution_count": null,
   "metadata": {},
   "outputs": [],
   "source": []
  },
  {
   "cell_type": "code",
   "execution_count": null,
   "metadata": {},
   "outputs": [],
   "source": []
  },
  {
   "cell_type": "code",
   "execution_count": null,
   "metadata": {},
   "outputs": [],
   "source": []
  },
  {
   "cell_type": "code",
   "execution_count": null,
   "metadata": {},
   "outputs": [],
   "source": []
  }
 ],
 "metadata": {
  "kernelspec": {
   "display_name": "Python 3",
   "language": "python",
   "name": "python3"
  },
  "language_info": {
   "codemirror_mode": {
    "name": "ipython",
    "version": 3
   },
   "file_extension": ".py",
   "mimetype": "text/x-python",
   "name": "python",
   "nbconvert_exporter": "python",
   "pygments_lexer": "ipython3",
   "version": "3.7.6"
  }
 },
 "nbformat": 4,
 "nbformat_minor": 5
}
