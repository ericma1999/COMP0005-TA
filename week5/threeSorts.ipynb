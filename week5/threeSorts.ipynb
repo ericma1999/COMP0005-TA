{
 "cells": [
  {
   "cell_type": "code",
   "execution_count": 34,
   "id": "stuck-purpose",
   "metadata": {},
   "outputs": [
    {
     "ename": "IndexError",
     "evalue": "list index out of range",
     "output_type": "error",
     "traceback": [
      "\u001b[0;31m---------------------------------------------------------------------------\u001b[0m",
      "\u001b[0;31mIndexError\u001b[0m                                Traceback (most recent call last)",
      "\u001b[0;32m<ipython-input-34-205d5ebc8ecd>\u001b[0m in \u001b[0;36m<module>\u001b[0;34m\u001b[0m\n\u001b[1;32m     56\u001b[0m \u001b[0msTime\u001b[0m \u001b[0;34m=\u001b[0m \u001b[0mtime\u001b[0m\u001b[0;34m.\u001b[0m\u001b[0mtime\u001b[0m\u001b[0;34m(\u001b[0m\u001b[0;34m)\u001b[0m\u001b[0;34m\u001b[0m\u001b[0;34m\u001b[0m\u001b[0m\n\u001b[1;32m     57\u001b[0m \u001b[0;32mfor\u001b[0m \u001b[0mi\u001b[0m \u001b[0;32min\u001b[0m \u001b[0mrange\u001b[0m\u001b[0;34m(\u001b[0m\u001b[0msize\u001b[0m\u001b[0;34m+\u001b[0m\u001b[0;36m1\u001b[0m\u001b[0;34m)\u001b[0m\u001b[0;34m:\u001b[0m\u001b[0;34m\u001b[0m\u001b[0;34m\u001b[0m\u001b[0m\n\u001b[0;32m---> 58\u001b[0;31m     \u001b[0mdesiredValue\u001b[0m \u001b[0;34m=\u001b[0m \u001b[0mvals\u001b[0m\u001b[0;34m[\u001b[0m\u001b[0mi\u001b[0m\u001b[0;34m]\u001b[0m\u001b[0;34m\u001b[0m\u001b[0;34m\u001b[0m\u001b[0m\n\u001b[0m\u001b[1;32m     59\u001b[0m     \u001b[0mfound\u001b[0m\u001b[0;34m,\u001b[0m \u001b[0miterations\u001b[0m \u001b[0;34m=\u001b[0m \u001b[0mlinearSearch\u001b[0m\u001b[0;34m(\u001b[0m\u001b[0mvals\u001b[0m\u001b[0;34m,\u001b[0m \u001b[0mdesiredValue\u001b[0m\u001b[0;34m)\u001b[0m\u001b[0;34m\u001b[0m\u001b[0;34m\u001b[0m\u001b[0m\n\u001b[1;32m     60\u001b[0m     \u001b[0mtotalComparisons\u001b[0m \u001b[0;34m+=\u001b[0m \u001b[0miterations\u001b[0m\u001b[0;34m\u001b[0m\u001b[0;34m\u001b[0m\u001b[0m\n",
      "\u001b[0;31mIndexError\u001b[0m: list index out of range"
     ]
    }
   ],
   "source": [
    "import random\n",
    "import time\n",
    "\n",
    "def linearSearch(vals, target):\n",
    "    for i in range(len(vals)):\n",
    "        if(target == vals[i]):\n",
    "            return True, i\n",
    "    return False, i\n",
    "\n",
    "def binarySearch(arr, target):\n",
    "    bot = 0\n",
    "    top = len(arr)-1\n",
    "    count = 0\n",
    "    while(bot <= top):\n",
    "        count += 1\n",
    "        mid = (bot+top) // 2\n",
    "        val = arr[mid]\n",
    "        if(val == target):\n",
    "            return True, count\n",
    "        if(val < target):\n",
    "            bot = mid + 1\n",
    "        else:\n",
    "            top = mid - 1\n",
    "    return False, count\n",
    "\n",
    "def trinarySearch(arr, target):\n",
    "    bot = 0\n",
    "    top = len(arr)-1\n",
    "    count = 0\n",
    "    while(bot <= top):\n",
    "        count += 1\n",
    "        mid1 = bot + (top-bot) // 3\n",
    "        mid2 = bot + ((top-bot) // 3)*2\n",
    "        val1 = arr[mid1]\n",
    "        val2 = arr[mid2]\n",
    "        if(val1 == target or val2 == target):\n",
    "            return True, count\n",
    "        if(val1 > target and val2 > target):\n",
    "            top = mid1-1\n",
    "        elif(val1 < target and val2 > target):\n",
    "            top = mid2 - 1\n",
    "            bot = mid1 + 1\n",
    "        else:\n",
    "            bot = mid2+1\n",
    "    return False, count\n",
    "\n",
    "\n",
    "\n",
    "size = 1000\n",
    "vals = []\n",
    "for i in range(size):\n",
    "    vals.append(random.randint(0,500))\n",
    "vals.sort()\n",
    "totalComparisons = 0\n",
    "\n",
    "sTime = time.time()\n",
    "for i in range(size):\n",
    "    desiredValue = vals[i]\n",
    "    found, iterations = linearSearch(vals, desiredValue)\n",
    "    totalComparisons += iterations\n",
    "averageComparisons = totalComparisons / float(size)\n",
    "eTime = time.time()\n",
    "elapsed = (eTime-sTime)\n",
    "print(\"Element found using linear search in \" + str(elapsed) + \" and \" + str(totalComparisons) + \" comparisons and an average of \" + str(averageComparisons) + \" comparisons.\")\n"
   ]
  },
  {
   "cell_type": "code",
   "execution_count": 31,
   "id": "international-velvet",
   "metadata": {},
   "outputs": [
    {
     "name": "stdout",
     "output_type": "stream",
     "text": [
      "Element found using trinary search in 0.002961397171020508 and 5077 comparisons and an average of 5.077 comparisons.\n"
     ]
    }
   ],
   "source": [
    "vals = []\n",
    "for i in range(size):\n",
    "    vals.append(random.randint(0,500))\n",
    "vals.sort()\n",
    "\n",
    "totalComparisons = 0\n",
    "\n",
    "sTime = time.time()\n",
    "for i in range(size):\n",
    "    desiredValue = vals[i]\n",
    "    found, iterations = trinarySearch(vals, desiredValue)\n",
    "    totalComparisons += iterations\n",
    "averageComparisons = totalComparisons / float(size)\n",
    "eTime = time.time()\n",
    "elapsed = (eTime-sTime)\n",
    "print(\"Element found using trinary search in \" + str(elapsed) + \" and \" + str(totalComparisons) + \" comparisons and an average of \" + str(averageComparisons) + \" comparisons.\")\n"
   ]
  },
  {
   "cell_type": "code",
   "execution_count": 37,
   "id": "involved-favorite",
   "metadata": {},
   "outputs": [
    {
     "name": "stdout",
     "output_type": "stream",
     "text": [
      "Element found using binary search in 0.002292156219482422 and 7600 comparisons and an average of 7.6 comparisons.\n"
     ]
    }
   ],
   "source": [
    "vals = []\n",
    "for i in range(size):\n",
    "    vals.append(random.randint(0,500))\n",
    "vals.sort()\n",
    "\n",
    "totalComparisons = 0\n",
    "\n",
    "sTime = time.time()\n",
    "for i in range(size):\n",
    "    desiredValue = vals[i]\n",
    "    found, iterations = binarySearch(vals, desiredValue)\n",
    "    totalComparisons += iterations\n",
    "averageComparisons = totalComparisons / float(size)\n",
    "eTime = time.time()\n",
    "elapsed = (eTime-sTime)\n",
    "print(\"Element found using binary search in \" + str(elapsed) + \" and \" + str(totalComparisons) + \" comparisons and an average of \" + str(averageComparisons) + \" comparisons.\")\n"
   ]
  },
  {
   "cell_type": "code",
   "execution_count": null,
   "id": "spoken-delaware",
   "metadata": {},
   "outputs": [],
   "source": []
  }
 ],
 "metadata": {
  "kernelspec": {
   "display_name": "Python 3",
   "language": "python",
   "name": "python3"
  },
  "language_info": {
   "codemirror_mode": {
    "name": "ipython",
    "version": 3
   },
   "file_extension": ".py",
   "mimetype": "text/x-python",
   "name": "python",
   "nbconvert_exporter": "python",
   "pygments_lexer": "ipython3",
   "version": "3.8.5"
  }
 },
 "nbformat": 4,
 "nbformat_minor": 5
}
