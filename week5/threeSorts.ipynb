{
 "cells": [
  {
   "cell_type": "code",
   "execution_count": 46,
   "id": "stuck-purpose",
   "metadata": {},
   "outputs": [
    {
     "name": "stdout",
     "output_type": "stream",
     "text": [
      "True\n",
      "True\n",
      "False\n"
     ]
    }
   ],
   "source": [
    "def linearSearch(vals, target):\n",
    "    for i in range(len(vals)):\n",
    "        if(target == vals[i]):\n",
    "            return True\n",
    "    return False\n",
    "\n",
    "def binarySearch(arr, target):\n",
    "    bot = 0\n",
    "    top = len(arr)-1\n",
    "    while(bot <= top):\n",
    "        print(bot)\n",
    "        print(top)\n",
    "        mid = (bot+top) // 2\n",
    "        val = arr[mid]\n",
    "        if(val == target):\n",
    "            return True\n",
    "        if(val < target):\n",
    "            bot = mid + 1\n",
    "        else:\n",
    "            top = mid - 1\n",
    "    return False\n",
    "\n",
    "def trinarySearch(arr, target):\n",
    "    bot = 0\n",
    "    top = len(arr)-1\n",
    "    while(bot <= top):\n",
    "        mid1 = bot + (top-bot) // 3\n",
    "        mid2 = bot + ((top-bot) // 3)*2\n",
    "        val1 = arr[mid1]\n",
    "        val2 = arr[mid2]\n",
    "        if(val1 == target or val2 == target):\n",
    "            return True\n",
    "        if(val1 > target and val2 > target):\n",
    "            top = mid1-1\n",
    "        elif(val1 < target and val2 > target):\n",
    "            top = mid2 - 1\n",
    "            bot = mid1 + 1\n",
    "        else:\n",
    "            bot = mid2+1\n",
    "    return False"
   ]
  },
  {
   "cell_type": "code",
   "execution_count": null,
   "id": "reliable-pride",
   "metadata": {},
   "outputs": [],
   "source": []
  },
  {
   "cell_type": "code",
   "execution_count": null,
   "id": "signal-garlic",
   "metadata": {},
   "outputs": [],
   "source": []
  },
  {
   "cell_type": "code",
   "execution_count": null,
   "id": "consistent-immunology",
   "metadata": {},
   "outputs": [],
   "source": []
  }
 ],
 "metadata": {
  "kernelspec": {
   "display_name": "Python 3",
   "language": "python",
   "name": "python3"
  },
  "language_info": {
   "codemirror_mode": {
    "name": "ipython",
    "version": 3
   },
   "file_extension": ".py",
   "mimetype": "text/x-python",
   "name": "python",
   "nbconvert_exporter": "python",
   "pygments_lexer": "ipython3",
   "version": "3.7.6"
  }
 },
 "nbformat": 4,
 "nbformat_minor": 5
}
