{
 "cells": [
  {
   "cell_type": "code",
   "execution_count": 66,
   "metadata": {},
   "outputs": [],
   "source": [
    "def linearSearch(vals, target):\n",
    "    comparisons = 0\n",
    "    for i in range(len(vals)):\n",
    "        if(target == vals[i]):\n",
    "            return (True, i)\n",
    "    return False\n",
    "\n",
    "def binarySearch(arr, target):\n",
    "    bot = 0\n",
    "    top = len(arr)-1\n",
    "    count = 0\n",
    "    while(bot <= top):\n",
    "        count += 1\n",
    "        mid = (bot+top) // 2\n",
    "        val = arr[mid]\n",
    "        if(val == target):\n",
    "            return (True, count)\n",
    "        if(val < target):\n",
    "            bot = mid + 1\n",
    "        else:\n",
    "            top = mid - 1\n",
    "    return False, count\n",
    "\n",
    "def trinarySearch(arr, target):\n",
    "    bot = 0\n",
    "    top = len(arr)-1\n",
    "    while(bot <= top):\n",
    "        mid1 = bot + (top-bot) // 3\n",
    "        mid2 = bot + ((top-bot) // 3)*2\n",
    "        val1 = arr[mid1]\n",
    "        val2 = arr[mid2]\n",
    "        if(val1 == target or val2 == target):\n",
    "            return True\n",
    "        if(val1 > target and val2 > target):\n",
    "            top = mid1-1\n",
    "        elif(val1 < target and val2 > target):\n",
    "            top = mid2 - 1\n",
    "            bot = mid1 + 1\n",
    "        else:\n",
    "            bot = mid2+1\n",
    "    return False"
   ]
  },
  {
   "cell_type": "code",
   "execution_count": 70,
   "metadata": {},
   "outputs": [
    {
     "name": "stdout",
     "output_type": "stream",
     "text": [
      "499.5\n",
      "499500\n",
      "0.030163049697875977\n"
     ]
    }
   ],
   "source": [
    "import random, time\n",
    "\n",
    "randomlist = random.sample(range(0, 1200), 1000)\n",
    "\n",
    "randomlist.sort()\n",
    "\n",
    "startTime = time.time()\n",
    "\n",
    "iterationsTotal = 0\n",
    "\n",
    "for item in randomlist:\n",
    "    result, iterations = linearSearch(randomlist, item)\n",
    "    iterationsTotal += iterations\n",
    "    \n",
    "\n",
    "\n",
    "\n",
    "endTime = time.time()\n",
    "\n",
    "print(iterationsTotal / 1000.0)\n",
    "print(iterationsTotal)\n",
    "print(endTime - startTime)"
   ]
  },
  {
   "cell_type": "code",
   "execution_count": 74,
   "metadata": {},
   "outputs": [
    {
     "name": "stdout",
     "output_type": "stream",
     "text": [
      "1000\n",
      "average comparisons 8.987\n",
      "8987\n",
      "0.002820730209350586\n"
     ]
    }
   ],
   "source": [
    "# binary search analysis\n",
    "\n",
    "randomlist = random.sample(range(0, 1200), 1000)\n",
    "print(len(randomlist))\n",
    "\n",
    "randomlist.sort()\n",
    "\n",
    "startTime = time.time()\n",
    "\n",
    "iterationsTotal = 0\n",
    "\n",
    "for item in randomlist:\n",
    "    result, iterations = binarySearch(randomlist, item)\n",
    "    iterationsTotal += iterations\n",
    "\n",
    "\n",
    "endTime = time.time()\n",
    "\n",
    "print(\"average comparisons\", iterationsTotal / 1000.0)\n",
    "print(iterationsTotal)\n",
    "print(endTime - startTime)"
   ]
  },
  {
   "cell_type": "code",
   "execution_count": null,
   "metadata": {},
   "outputs": [],
   "source": []
  },
  {
   "cell_type": "code",
   "execution_count": null,
   "metadata": {},
   "outputs": [],
   "source": []
  }
 ],
 "metadata": {
  "kernelspec": {
   "display_name": "Python 3",
   "language": "python",
   "name": "python3"
  },
  "language_info": {
   "codemirror_mode": {
    "name": "ipython",
    "version": 3
   },
   "file_extension": ".py",
   "mimetype": "text/x-python",
   "name": "python",
   "nbconvert_exporter": "python",
   "pygments_lexer": "ipython3",
   "version": "3.7.6"
  }
 },
 "nbformat": 4,
 "nbformat_minor": 5
}
