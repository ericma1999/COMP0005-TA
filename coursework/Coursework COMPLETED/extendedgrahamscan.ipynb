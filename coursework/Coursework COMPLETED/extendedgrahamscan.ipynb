{
  "cells": [
    {
      "cell_type": "markdown",
      "source": "# Extended Graham scan algorithm",
      "metadata": {
        "cell_id": "00000-27c439c6-c559-4e2f-b8b8-16ca3159e56a",
        "deepnote_cell_type": "markdown"
      }
    },
    {
      "cell_type": "markdown",
      "source": "Use the cell below for all python code needed to realise the extended Graham scan algorithm (including any auxiliary data structures and functions you might need). The `extendedgrahamscan()` function itself should take as input parameter a list of 2D points (`inputSet`), and return the subset of such points that lie on the convex hull (`outputSet`).",
      "metadata": {
        "cell_id": "00001-e1d4e8ac-ef2a-43ae-bf3b-d336132d7064",
        "deepnote_cell_type": "markdown"
      }
    },
    {
      "cell_type": "markdown",
      "source": "# Stack Implementation",
      "metadata": {
        "tags": [],
        "cell_id": "00002-0849e160-3d58-4697-b8a7-03e50c55dca7",
        "deepnote_cell_type": "markdown"
      }
    },
    {
      "cell_type": "code",
      "metadata": {
        "cell_id": "00002-51f6c640-f87c-483b-9a28-12a03c8c4419",
        "deepnote_to_be_reexecuted": false,
        "source_hash": "a565b5b6",
        "execution_millis": 0,
        "execution_start": 1614946498782,
        "deepnote_cell_type": "code"
      },
      "source": "class Stack:\n    stack = []\n\n    def __init__(self):\n        self.stack = []\n    def push(self, point):\n        self.stack.append(point)\n    \n    def length(self):\n        return len(self.stack)\n        \n    def peek(self):\n        return self.stack[-1]\n\n    def pop(self):\n        return self.stack.pop()\n",
      "execution_count": 1,
      "outputs": []
    },
    {
      "cell_type": "markdown",
      "source": "# Auxiliary Methods",
      "metadata": {
        "tags": [],
        "cell_id": "00003-9bade331-e441-487e-9595-a7154afd268a",
        "deepnote_cell_type": "markdown"
      }
    },
    {
      "cell_type": "code",
      "metadata": {
        "tags": [],
        "cell_id": "00003-37c7f77e-488d-4cce-a25a-07b6310ae110",
        "deepnote_to_be_reexecuted": false,
        "source_hash": "ce84cc2f",
        "execution_millis": 14,
        "execution_start": 1614946498783,
        "deepnote_cell_type": "code"
      },
      "source": "def lowestPoint(points):\n    small = points[0]\n    for i in range(len(points)):\n        if(points[i][1] < small[1]):\n            small = points[i]\n        elif(points[i][1] == small[1] and points[i][0] < small[0]):\n            small = points[i]\n    return small\n\n#Sort by cross product\ndef calculateCrossProduct(currentPoint, pointOne, pointTwo):\n    return (currentPoint[0] - pointOne[0]) * (currentPoint[1] - pointTwo[1]) - (currentPoint[0] - pointTwo[0]) * (currentPoint[1] - pointOne[1]) \n\n\n#Find distance between two points\ndef distance(p1,p2):\n    return ((p1[0]-p2[0])**2 + (p1[1]-p2[1])**2)**(1/2)\n\n\ndef merge(left, right, lowest):\n    output = []\n    \n    i = 0\n    j = 0\n    while (i < len(left)  and j < len(right)):\n        \n        if left[i] == lowest:\n            i+=1\n            continue\n        if right[j] == lowest:\n            j+=1\n            continue\n        \n        if calculateCrossProduct(lowest, left[i], right[j]) > 0:\n            output.append(left[i])\n            i+=1\n        elif calculateCrossProduct(lowest, left[i], right[j]) == 0:\n            # If the points have the same angle compared to the lowest point\n            # Compare by the distance from the lowest point\n            if (distance(lowest, left[i]) < distance(lowest, right[j])):\n                output.append(left[i])\n                i+=1\n            else:\n                output.append(right[j])\n                j+=1\n        else:\n            output.append(right[j])\n            j+=1\n    \n    while (i != len(left)):\n        output.append(left[i])\n        i+=1\n\n    while (j != len(right)):\n        output.append(right[j])\n        j += 1\n\n    return output\n\n\ndef mergeSortByAngle(input, lowest):\n\n    length = len(input)\n\n    if length == 1 or length == 0:\n        return input\n    \n    mid = (length // 2)\n    \n    leftHalf = mergeSortByAngle(input[:mid:], lowest)\n    rightHalf = mergeSortByAngle(input[mid::], lowest)\n\n    return merge(leftHalf, rightHalf, lowest)",
      "execution_count": 2,
      "outputs": []
    },
    {
      "cell_type": "markdown",
      "source": "# Akl-Toussaint Heuristic",
      "metadata": {
        "tags": [],
        "cell_id": "00005-0b891d31-d527-4ded-ae46-7c92f2ec8ea3",
        "deepnote_cell_type": "markdown"
      }
    },
    {
      "cell_type": "code",
      "metadata": {
        "tags": [],
        "cell_id": "00004-26aaf0a5-ecbc-49ab-8d01-3690f754d613",
        "deepnote_to_be_reexecuted": false,
        "source_hash": "5b935368",
        "execution_millis": 0,
        "execution_start": 1614946498798,
        "deepnote_cell_type": "code"
      },
      "source": "# find four points which have the smallest and the biggest x and y coordinates\ndef findCorners(points):\n    minX = points[0]\n    minY = points[0]\n    maxX = points[0]\n    maxY = points[0]\n    for point in points:\n        if point[0] < minX[0]:\n            minX = point \n        elif point[0] > maxX[0]:\n            maxX = point\n        elif point[1] < minY[1]:\n            minY = point\n        elif point[1] > maxY[1]:\n            maxY = point\n    return [minX, maxX, minY, maxY]\n\n#Removes any points inside of the largest quadrilateral in the set of points given\ndef filterPoints(points):\n    minX, maxX, minY, maxY = findCorners(points)\n    validPoints = []\n    for point in points:\n        if(calculateCrossProduct(minY, minX, point) >= 0):\n            validPoints.append(point)\n            continue\n        if(calculateCrossProduct(maxX, maxY, point) <= 0):\n            validPoints.append(point)\n            continue\n        if(calculateCrossProduct(minY, maxX, point) <= 0):\n            validPoints.append(point)\n            continue\n        if(calculateCrossProduct(minX, maxY, point) >= 0):\n            validPoints.append(point)\n            continue\n    return validPoints",
      "execution_count": 3,
      "outputs": []
    },
    {
      "cell_type": "markdown",
      "source": "# Graham Scan Implementation",
      "metadata": {
        "tags": [],
        "cell_id": "00008-7eb9a332-e260-4512-bbba-90c81f354110",
        "deepnote_cell_type": "markdown"
      }
    },
    {
      "cell_type": "code",
      "metadata": {
        "tags": [],
        "cell_id": "00004-d575a270-248c-46f6-b424-3c2353a883d6",
        "deepnote_to_be_reexecuted": false,
        "source_hash": "3aa9f0c",
        "execution_millis": 0,
        "execution_start": 1614946498799,
        "deepnote_cell_type": "code"
      },
      "source": "def grahamScan(points):\n    cloned_points = filterPoints(points)\n    lowest = lowestPoint(cloned_points)\n    # sorting ignores the lowest point, so need to add it back in as first item\n    cloned_points = mergeSortByAngle(cloned_points,lowest)\n    cloned_points.insert(0, lowest)\n    # Push the first two points by default(lowest point and next point in sorted list by angle)\n    stack = Stack()\n    stack.push(cloned_points[0])\n    stack.push(cloned_points[1])\n    position = 2\n    while position < len(cloned_points):\n        firstPoint = stack.pop()\n        thirdPoint = stack.pop()\n        val = calculateCrossProduct(firstPoint, cloned_points[position], thirdPoint) \n        while(val < 0):\n            stack.push(thirdPoint)\n            firstPoint = stack.pop()\n            thirdPoint = stack.pop()\n            val = calculateCrossProduct(firstPoint, cloned_points[position], thirdPoint)\n        stack.push(thirdPoint)\n        stack.push(firstPoint)\n        stack.push(cloned_points[position])\n        position += 1\n    return stack.stack\n",
      "execution_count": 4,
      "outputs": []
    },
    {
      "cell_type": "markdown",
      "source": "# Unmerge\nmix up the sorted angle points to make the worst case possible that results in the maximum\nmerges when sorted by mergeSortByAngle\n",
      "metadata": {
        "tags": [],
        "cell_id": "00010-6a7a7a18-ae41-42ce-992e-df921cb76ce1",
        "deepnote_cell_type": "markdown"
      }
    },
    {
      "cell_type": "code",
      "metadata": {
        "tags": [],
        "cell_id": "00010-831cc6d8-d6ff-4545-ad0a-5a480e92ff9a",
        "deepnote_to_be_reexecuted": false,
        "source_hash": "acf7fe9",
        "execution_start": 1614948563209,
        "execution_millis": 0,
        "deepnote_cell_type": "code"
      },
      "source": "def seperate(points):\n    if len(points) < 2:\n        return points\n    \n    if len(points) == 2:\n        temp = points[0]\n        points[0] = points[1]\n        points[1] = temp\n        return points\n        \n    left = []\n    right = []\n\n    for i in range(0,len(points),2):\n        left.append(points[i])\n    for i in range(1, len(points),2):\n        right.append(points[i])\n    left = seperate(left)\n    right = seperate(right)\n    return mergeBack(left, right)\n\ndef mergeBack(left, right):\n    points = []\n    mid = len(points) // 2\n    for i in range(len(left)):\n        points.append(left[i])\n    \n    for i in range(len(right)):\n        points.append(right[i])\n    return points",
      "execution_count": 42,
      "outputs": []
    },
    {
      "cell_type": "markdown",
      "source": "# Points Generation",
      "metadata": {
        "cell_id": "00003-16d1a327-5aba-4d78-9407-a34b142df043",
        "deepnote_cell_type": "markdown"
      }
    },
    {
      "cell_type": "code",
      "metadata": {
        "cell_id": "00004-c9a0aeb3-2fd0-4649-b272-11c20d5d4ccf",
        "deepnote_to_be_reexecuted": false,
        "source_hash": "3e46fa24",
        "execution_millis": 0,
        "execution_start": 1614946498819,
        "deepnote_cell_type": "code"
      },
      "source": "import random\n\n\n#code for random data generation\ndef genAveragePoints(inputSet, size):\n    for i in range(size):\n        x = [random.randint(0,32767), random.randint(0,32767)]\n        while x in inputSet:\n            x = [random.randint(0,32767), random.randint(0,32767)]\n        inputSet.append(x)\n    return inputSet\n\n#code for worst case scenario point generation\ndef genWorstPoints(inputSet, size):\n    points = genAveragePoints(inputSet, size)\n    lowest = lowestPoint(points)\n    points = mergeSortByAngle(points, lowest)\n    points = seperate(points)\n    points.insert(0,lowest)\n    return points\n\n#test code\ntarget_points = [100, 500, 1000, 5000, 10000, 15000, 20000]\n\ndef generateListOfWorstPoints(target_points):\n    results = []\n    for target_point in target_points:\n        size = target_point    \n        results += [genWorstPoints([],size)]\n    return results\n    \ndef generateListOfAveragePoints(target_points):\n    results = []\n    for target_point in target_points:\n        results += [genAveragePoints([], target_point)]\n    return results\n\n\n#worstPointsList = generateListOfWorstPoints(target_points)\n\n#averagePointsList = generateListOfAveragePoints(target_points)\n\n",
      "execution_count": 5,
      "outputs": []
    },
    {
      "cell_type": "markdown",
      "source": "# Driver Code for Testing",
      "metadata": {
        "cell_id": "00005-81caea99-da26-4076-af46-258d8438e03e",
        "deepnote_cell_type": "markdown"
      }
    },
    {
      "cell_type": "code",
      "metadata": {
        "cell_id": "00006-54c9ab2b-a83f-4508-a813-ac600eb2e595",
        "deepnote_to_be_reexecuted": false,
        "source_hash": "10f2ec4d",
        "execution_millis": 6,
        "execution_start": 1614946498819,
        "deepnote_cell_type": "code"
      },
      "source": "import timeit\n\nnum_of_repeats = 10 # how many times to run the test (timeit runs)\nnum_of_test_per_repeat = 10 # how many times to run the test for timeit\n\ndef calcAverage(results, repeats, runPerRepeat):\n    total = 0\n    for result in results:\n        total += result\n    return total / repeats / runPerRepeat\n\n\n#test code\ndef performTestWithData(repeats,repeatsPerRun, pointsList):\n    for points in pointsList:\n        t = timeit.Timer(lambda: grahamScan(points))\n        results = t.repeat(repeats, repeatsPerRun)\n        avg = calcAverage(results, repeats, repeatsPerRun)\n\n        print(\"Amount of points is \" + str(len(points)) + \", avg time per run is \" + str(avg))\n\nprint(\"Average Tests\\n\")\n#performTestWithData(num_of_repeats,num_of_test_per_repeat, averagePointsList)\nprint(\"\\n\")\nprint(\"Worst Tests\\n\")\n#performTestWithData(num_of_repeats,num_of_test_per_repeat, worstPointsList)",
      "execution_count": 6,
      "outputs": [
        {
          "name": "stdout",
          "text": "average test\nworst test\n",
          "output_type": "stream"
        }
      ]
    },
    {
      "cell_type": "markdown",
      "source": "*Optional*: Feel free to use the code below on small datasets (e.g., N = 10) to visually inspect whether the algorithm has been implemented correctly. The fragment below assumes both `inputSet` and `outputSet` to be lists of 2D points, with each point being a list of 2 elements (e.g., `[[x1,y1], [x2,y2], ..., [x_k,y_k]]`)",
      "metadata": {
        "cell_id": "00007-c680e2f5-867a-4c8d-98aa-d2c4f9a3f6c8",
        "deepnote_cell_type": "markdown"
      }
    },
    {
      "cell_type": "code",
      "metadata": {
        "cell_id": "00008-4058be98-ff66-4f99-966a-241612c2a966",
        "deepnote_to_be_reexecuted": false,
        "source_hash": "c58e3697",
        "execution_millis": 26010,
        "execution_start": 1614946661502,
        "deepnote_cell_type": "code"
      },
      "source": "import matplotlib.pyplot as plt\n\n# inputSet and outputSet should have been defined above. \n# uncomment the next two lines only if you wish to test the plotting code before coding your algorithm\n\ninputSet = genAveragePoints([], 1000)\noutputSet = grahamScan(inputSet)\n\nplt.figure()\n\n#first do a scatter plot of the inputSet\ninput_xs, input_ys = zip(*inputSet)\nplt.scatter(input_xs, input_ys)\n\n#then do a polygon plot of the computed covex hull\noutputSet.append(outputSet[0]) #first create a 'closed loop' by adding the first point at the end of the list\noutput_xs, output_ys = zip(*outputSet) \nplt.plot(output_xs, output_ys) \n\nplt.show() ",
      "execution_count": 41,
      "outputs": [
        {
          "data": {
            "text/plain": "<Figure size 432x288 with 1 Axes>",
            "image/png": "[encoded data removed]"
          },
          "metadata": {
            "needs_background": "light"
          },
          "output_type": "display_data"
        }
      ]
    },
    {
      "cell_type": "code",
      "metadata": {
        "cell_id": "00009-2d9c2f62-8df1-4ce5-92dc-5e1854892e00",
        "deepnote_to_be_reexecuted": false,
        "source_hash": "b623e53d",
        "execution_millis": 0,
        "execution_start": 1614946499339,
        "deepnote_cell_type": "code"
      },
      "source": "",
      "execution_count": 7,
      "outputs": []
    },
    {
      "cell_type": "code",
      "metadata": {
        "cell_id": "00010-7752f20d-25ed-41cc-b083-8d9b588cb7b7",
        "deepnote_to_be_reexecuted": false,
        "source_hash": "b623e53d",
        "execution_millis": 0,
        "execution_start": 1614946499340,
        "deepnote_cell_type": "code"
      },
      "source": "",
      "execution_count": 7,
      "outputs": []
    },
    {
      "cell_type": "markdown",
      "source": "<a style='text-decoration:none;line-height:16px;display:flex;color:#5B5B62;padding:10px;justify-content:end;' href='https://deepnote.com?utm_source=created-in-deepnote-cell&projectId=b41ac805-e808-4b29-bba5-591b97a0efec' target=\"_blank\">\n<img style='display:inline;max-height:16px;margin:0px;margin-right:7.5px;' src='data:image/svg+xml;base64,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' > </img>\nCreated in <span style='font-weight:600;margin-left:4px;'>Deepnote</span></a>",
      "metadata": {
        "tags": [],
        "created_in_deepnote_cell": true,
        "deepnote_cell_type": "markdown"
      }
    }
  ],
  "nbformat": 4,
  "nbformat_minor": 4,
  "metadata": {
    "kernelspec": {
      "display_name": "Python 3",
      "language": "python",
      "name": "python3"
    },
    "language_info": {
      "codemirror_mode": {
        "name": "ipython",
        "version": 3
      },
      "file_extension": ".py",
      "mimetype": "text/x-python",
      "name": "python",
      "nbconvert_exporter": "python",
      "pygments_lexer": "ipython3",
      "version": "3.7.6"
    },
    "deepnote_notebook_id": "d63c6bbd-dfbe-4ce4-ade6-55de7810187f",
    "deepnote": {},
    "deepnote_execution_queue": []
  }
}