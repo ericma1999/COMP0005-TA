{
  "cells": [
    {
      "cell_type": "markdown",
      "source": "# Graham scan algorithm",
      "metadata": {
        "cell_id": "00000-03f49df4-3510-495b-b3d2-a5ea0702485c",
        "deepnote_cell_type": "markdown"
      }
    },
    {
      "cell_type": "markdown",
      "source": "Use the cell below for all python code needed to realise the extended Graham scan algorithm (including any auxiliary data structures and functions you might need). The `extendedgrahamscan()` function itself should take as input parameter a list of 2D points (`inputSet`), and return the subset of such points that lie on the convex hull (`outputSet`).",
      "metadata": {
        "cell_id": "00001-274a82b9-26a5-49e2-ba5e-695d73eeaea8",
        "deepnote_cell_type": "markdown"
      }
    },
    {
      "cell_type": "markdown",
      "source": "# Stack Implementation",
      "metadata": {
        "tags": [],
        "cell_id": "00002-1e268532-2fd7-4275-af20-d8810df5e132",
        "deepnote_cell_type": "markdown"
      }
    },
    {
      "cell_type": "code",
      "metadata": {
        "deepnote_to_be_reexecuted": false,
        "source_hash": "a565b5b6",
        "execution_millis": 5,
        "cell_id": "00003-ac88a13c-1edd-4f26-9039-9cd0f9e3c84b",
        "execution_start": 1614946960169,
        "deepnote_cell_type": "code"
      },
      "source": "class Stack:\n    stack = []\n\n    def __init__(self):\n        self.stack = []\n    def push(self, point):\n        self.stack.append(point)\n    \n    def length(self):\n        return len(self.stack)\n        \n    def peek(self):\n        return self.stack[-1]\n\n    def pop(self):\n        return self.stack.pop()\n",
      "execution_count": 1,
      "outputs": []
    },
    {
      "cell_type": "markdown",
      "source": "# Auxiliary Methods",
      "metadata": {
        "tags": [],
        "cell_id": "00004-0950b09b-20ed-4f04-bc5d-7423960aef8b",
        "deepnote_cell_type": "markdown"
      }
    },
    {
      "cell_type": "code",
      "metadata": {
        "tags": [],
        "deepnote_to_be_reexecuted": false,
        "source_hash": "ce84cc2f",
        "execution_millis": 0,
        "cell_id": "00005-2e657a0c-5d04-49ee-aa81-bce795c57026",
        "execution_start": 1614946960183,
        "deepnote_cell_type": "code"
      },
      "source": "def lowestPoint(points):\n    small = points[0]\n    for i in range(len(points)):\n        if(points[i][1] < small[1]):\n            small = points[i]\n        elif(points[i][1] == small[1] and points[i][0] < small[0]):\n            small = points[i]\n    return small\n\n#Sort by cross product\ndef calculateCrossProduct(currentPoint, pointOne, pointTwo):\n    return (currentPoint[0] - pointOne[0]) * (currentPoint[1] - pointTwo[1]) - (currentPoint[0] - pointTwo[0]) * (currentPoint[1] - pointOne[1]) \n\n\n#Find distance between two points\ndef distance(p1,p2):\n    return ((p1[0]-p2[0])**2 + (p1[1]-p2[1])**2)**(1/2)\n\n\ndef merge(left, right, lowest):\n    output = []\n    \n    i = 0\n    j = 0\n    while (i < len(left)  and j < len(right)):\n        \n        if left[i] == lowest:\n            i+=1\n            continue\n        if right[j] == lowest:\n            j+=1\n            continue\n        \n        if calculateCrossProduct(lowest, left[i], right[j]) > 0:\n            output.append(left[i])\n            i+=1\n        elif calculateCrossProduct(lowest, left[i], right[j]) == 0:\n            # If the points have the same angle compared to the lowest point\n            # Compare by the distance from the lowest point\n            if (distance(lowest, left[i]) < distance(lowest, right[j])):\n                output.append(left[i])\n                i+=1\n            else:\n                output.append(right[j])\n                j+=1\n        else:\n            output.append(right[j])\n            j+=1\n    \n    while (i != len(left)):\n        output.append(left[i])\n        i+=1\n\n    while (j != len(right)):\n        output.append(right[j])\n        j += 1\n\n    return output\n\n\ndef mergeSortByAngle(input, lowest):\n\n    length = len(input)\n\n    if length == 1 or length == 0:\n        return input\n    \n    mid = (length // 2)\n    \n    leftHalf = mergeSortByAngle(input[:mid:], lowest)\n    rightHalf = mergeSortByAngle(input[mid::], lowest)\n\n    return merge(leftHalf, rightHalf, lowest)",
      "execution_count": 2,
      "outputs": []
    },
    {
      "cell_type": "markdown",
      "source": "# Graham Scan Implementation",
      "metadata": {
        "tags": [],
        "cell_id": "00008-72b1fc4a-228c-4133-ae6d-3a758c10a3d1",
        "deepnote_cell_type": "markdown"
      }
    },
    {
      "cell_type": "code",
      "metadata": {
        "tags": [],
        "deepnote_to_be_reexecuted": false,
        "source_hash": "956a4d6d",
        "execution_millis": 0,
        "cell_id": "00009-75edc74a-0754-4d9d-8eea-f99865f2d47e",
        "execution_start": 1614946960194,
        "deepnote_cell_type": "code"
      },
      "source": "# Algorithm Implementation\n\ndef grahamScan(points):\n    cloned_points = points.copy()\n    lowest = lowestPoint(cloned_points)\n    # sorting ignores the lowest point, so need to add it back in as first item\n    cloned_points = mergeSortByAngle(cloned_points,lowest)\n    cloned_points.insert(0, lowest)\n\n    # Push the first two points by default(lowest point and next point in sorted list by angle)\n    stack = Stack()\n    stack.push(cloned_points[0])\n    stack.push(cloned_points[1])\n    position = 2\n    while position < len(cloned_points):\n        firstPoint = stack.pop()\n        thirdPoint = stack.pop()\n        val = calculateCrossProduct(firstPoint, cloned_points[position], thirdPoint)\n        while(val < 0):\n            stack.push(thirdPoint)\n            firstPoint = stack.pop()\n            thirdPoint = stack.pop()\n            val = calculateCrossProduct(firstPoint, cloned_points[position], thirdPoint)\n        stack.push(thirdPoint)\n        stack.push(firstPoint)\n        stack.push(cloned_points[position])\n        position += 1\n\n    return stack.stack\n",
      "execution_count": 3,
      "outputs": []
    },
    {
      "cell_type": "markdown",
      "source": "# Unmerge\nmix up the sorted angle points to make the worst case possible that results in the maximum\nmerges when sorted by mergeSortByAngle",
      "metadata": {
        "tags": [],
        "cell_id": "00008-a53f9ad0-90de-4e9d-aac3-226da5a3ed26",
        "deepnote_cell_type": "markdown"
      }
    },
    {
      "cell_type": "code",
      "metadata": {
        "tags": [],
        "cell_id": "00008-6232fe3f-a56e-4276-bbf7-3dcefd6f986a",
        "deepnote_cell_type": "code"
      },
      "source": "def seperate(points):\n    if len(points) < 2:\n        return points\n    \n    if len(points) == 2:\n        temp = points[0]\n        points[0] = points[1]\n        points[1] = temp\n        return points\n        \n    left = []\n    right = []\n\n    for i in range(0,len(points),2):\n        left.append(points[i])\n    for i in range(1, len(points),2):\n        right.append(points[i])\n    left = seperate(left)\n    right = seperate(right)\n    return mergeBack(left, right)\n\ndef mergeBack(left, right):\n    points = []\n    mid = len(points) // 2\n    for i in range(len(left)):\n        points.append(left[i])\n\n    for i in range(len(right)):\n        points.append(right[i])\n    return points",
      "execution_count": null,
      "outputs": []
    },
    {
      "cell_type": "markdown",
      "source": "# Points Generation",
      "metadata": {
        "cell_id": "00010-f739bc34-679d-4dab-81ef-d5acc63087bd",
        "deepnote_cell_type": "markdown"
      }
    },
    {
      "cell_type": "code",
      "metadata": {
        "deepnote_to_be_reexecuted": false,
        "source_hash": "3e46fa24",
        "execution_millis": 5,
        "cell_id": "00011-57dd6fdd-0b66-4b83-b514-3b1bb2f23fad",
        "execution_start": 1614946960200,
        "deepnote_cell_type": "code"
      },
      "source": "import random\n\n\n#code for worst case scenario point generation\ndef genWorstPoints(inputSet, size):\n    points = genAveragePoints(inputSet, size)\n    lowest = lowestPoint(points)\n    points = mergeSortByAngle(points, lowest)\n    points = seperate(points)\n    points.insert(0,lowest)\n    return points\n\n\n#code for random data generation\ndef genAveragePoints(inputSet, size):\n    for i in range(size):\n        x = [random.randint(0,32767), random.randint(0,32767)]\n        while x in inputSet:\n            x = [random.randint(0,32767), random.randint(0,32767)]\n        inputSet.append(x)\n    return inputSet\n\n\n#test code\ntarget_points = [100, 500, 1000, 5000, 10000, 15000, 20000]\n\ndef generateListOfWorstPoints(target_points):\n    results = []\n    for target_point in target_points:\n        size = target_point    \n        results += [genWorstPoints([],size)]\n    return results\n    \ndef generateListOfAveragePoints(target_points):\n    results = []\n    for target_point in target_points:\n        results += [genAveragePoints([], target_point)]\n    return results\n\n\n#worstPointsList = generateListOfWorstPoints(target_points)\n\n#averagePointsList = generateListOfAveragePoints(target_points)\n\n",
      "execution_count": 4,
      "outputs": []
    },
    {
      "cell_type": "markdown",
      "source": "# Driver Code for Testing",
      "metadata": {
        "cell_id": "00012-5122dfee-2dca-4468-92b3-95c460f57580",
        "deepnote_cell_type": "markdown"
      }
    },
    {
      "cell_type": "code",
      "metadata": {
        "deepnote_to_be_reexecuted": false,
        "source_hash": "10f2ec4d",
        "execution_millis": 18,
        "cell_id": "00013-260bcf6f-a0b7-4b7c-adc9-c59b91e15d58",
        "execution_start": 1614946960206,
        "deepnote_cell_type": "code"
      },
      "source": "import timeit\n\nnum_of_repeats = 10 # how many times to run the test (timeit runs)\nnum_of_test_per_repeat = 10 # how many times to run the test for timeit\n\ndef calcAverage(results, repeats, runPerRepeat):\n    total = 0\n    for result in results:\n        total += result\n    return total / repeats / runPerRepeat\n\n\n#test code\ndef performTestWithData(repeats,repeatsPerRun, pointsList):\n    for points in pointsList:\n        t = timeit.Timer(lambda: grahamScan(points))\n        results = t.repeat(repeats, repeatsPerRun)\n        avg = calcAverage(results, repeats, repeatsPerRun)\n\n        print(\"Amount of points is \" + str(len(points)) + \", avg time per run is \" + str(avg))\n\nprint(\"Average Tests\\n\")\n#performTestWithData(num_of_repeats,num_of_test_per_repeat, averagePointsList)\nprint(\"\\n\")\nprint(\"Worst Tests\\n\")\n#performTestWithData(num_of_repeats,num_of_test_per_repeat, worstPointsList)",
      "execution_count": 5,
      "outputs": [
        {
          "name": "stdout",
          "text": "average test\nworst test\n",
          "output_type": "stream"
        }
      ]
    },
    {
      "cell_type": "markdown",
      "source": "*Optional*: Feel free to use the code below on small datasets (e.g., N = 10) to visually inspect whether the algorithm has been implemented correctly. The fragment below assumes both `inputSet` and `outputSet` to be lists of 2D points, with each point being a list of 2 elements (e.g., `[[x1,y1], [x2,y2], ..., [x_k,y_k]]`)",
      "metadata": {
        "cell_id": "00014-aefbba7f-93a3-4f2f-a32c-fca5974d557d",
        "deepnote_cell_type": "markdown"
      }
    },
    {
      "cell_type": "code",
      "metadata": {
        "deepnote_to_be_reexecuted": false,
        "source_hash": "cb5134fa",
        "execution_millis": 158,
        "cell_id": "00015-12df5d42-f746-4408-b27a-f38ad09c2f9b",
        "execution_start": 1614946971017,
        "deepnote_cell_type": "code"
      },
      "source": "import matplotlib.pyplot as plt\n\n# inputSet and outputSet should have been defined above. \n# uncomment the next two lines only if you wish to test the plotting code before coding your algorithm\n\ninputSet = genAveragePoints([], 1000)\noutputSet = grahamScan(inputSet)\n\nplt.figure()\n\n#first do a scatter plot of the inputSet\ninput_xs, input_ys = zip(*inputSet)\nplt.scatter(input_xs, input_ys)\n\n#then do a polygon plot of the computed covex hull\noutputSet.append(outputSet[0]) #first create a 'closed loop' by adding the first point at the end of the list\noutput_xs, output_ys = zip(*outputSet) \nplt.plot(output_xs, output_ys) \n\nplt.show() ",
      "execution_count": 13,
      "outputs": [
        {
          "data": {
            "text/plain": "<Figure size 432x288 with 1 Axes>",
            "image/png": "[encoded data removed]"
          },
          "metadata": {
            "needs_background": "light"
          },
          "output_type": "display_data"
        }
      ]
    },
    {
      "cell_type": "markdown",
      "source": "<a style='text-decoration:none;line-height:16px;display:flex;color:#5B5B62;padding:10px;justify-content:end;' href='https://deepnote.com?utm_source=created-in-deepnote-cell&projectId=b41ac805-e808-4b29-bba5-591b97a0efec' target=\"_blank\">\n<img style='display:inline;max-height:16px;margin:0px;margin-right:7.5px;' src='data:image/svg+xml;base64,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' > </img>\nCreated in <span style='font-weight:600;margin-left:4px;'>Deepnote</span></a>",
      "metadata": {
        "tags": [],
        "created_in_deepnote_cell": true,
        "deepnote_cell_type": "markdown"
      }
    }
  ],
  "nbformat": 4,
  "nbformat_minor": 4,
  "metadata": {
    "kernelspec": {
      "display_name": "Python 3",
      "language": "python",
      "name": "python3"
    },
    "language_info": {
      "codemirror_mode": {
        "name": "ipython",
        "version": 3
      },
      "file_extension": ".py",
      "mimetype": "text/x-python",
      "name": "python",
      "nbconvert_exporter": "python",
      "pygments_lexer": "ipython3",
      "version": "3.7.6"
    },
    "deepnote_notebook_id": "1ba0179c-4869-4305-ade6-292a5315d4b7",
    "deepnote": {},
    "deepnote_execution_queue": []
  }
}