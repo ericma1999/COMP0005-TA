{
 "cells": [
  {
   "cell_type": "code",
   "execution_count": 1,
   "metadata": {
    "cell_id": "00000-10e9448a-17cb-4b91-9446-a46b3cf1f78c",
    "deepnote_cell_type": "code",
    "deepnote_to_be_reexecuted": false,
    "execution_millis": 0,
    "execution_start": 1615384146916,
    "source_hash": "c7cc8984",
    "tags": []
   },
   "outputs": [],
   "source": [
    "class priorityQueueEdge:\n",
    "\n",
    "    def __init__(self):\n",
    "        self.heap = [None]\n",
    "        self.len = 0\n",
    "\n",
    "    def insert(self, key):\n",
    "        self.heap.append(key)\n",
    "        self.len += 1\n",
    "        self.swim(self.len)\n",
    "\n",
    "    def swim(self, i):\n",
    "        while(i > 1 and self.heap[i//2].weight > self.heap[i].weight):\n",
    "            temp = self.heap[i//2]\n",
    "            self.heap[i//2] = self.heap[i]\n",
    "            self.heap[i] = temp\n",
    "            i = i // 2\n",
    "\n",
    "    def pop(self):\n",
    "        smallest = self.heap[1]\n",
    "        self.heap[1] = self.heap[self.len]\n",
    "        self.heap[self.len] = smallest\n",
    "        self.heap.pop()\n",
    "        self.len -= 1\n",
    "        self.sink(1)\n",
    "        return smallest\n",
    "\n",
    "    def sink(self, i):\n",
    "        while(2*i <= self.len):\n",
    "            j = 2*i\n",
    "            if(j < self.len and self.heap[j].weight > self.heap[j+1].weight):\n",
    "                j += 1\n",
    "            if(self.heap[i].weight <= self.heap[j].weight):\n",
    "                break\n",
    "            temp = self.heap[i]\n",
    "            self.heap[i] = self.heap[j]\n",
    "            self.heap[j] = temp\n",
    "            i = j\n",
    "\n",
    "    def isEmpty(self):\n",
    "        return self.len == 0\n",
    "\n",
    "    def display(self):\n",
    "        for i in range(1,len(self.heap)):\n",
    "            print(self.heap[i].weight)"
   ]
  },
  {
   "cell_type": "code",
   "execution_count": null,
   "metadata": {
    "cell_id": "00001-9524c181-2229-4e55-b93d-9d4643673189",
    "deepnote_cell_type": "code",
    "deepnote_to_be_reexecuted": false,
    "execution_millis": 27,
    "execution_start": 1615384146917,
    "source_hash": "b623e53d",
    "tags": []
   },
   "outputs": [],
   "source": []
  },
  {
   "cell_type": "code",
   "execution_count": 2,
   "metadata": {
    "cell_id": "00002-41df0bae-7ab0-44c4-b345-dd62baec581c",
    "deepnote_cell_type": "code",
    "deepnote_to_be_reexecuted": false,
    "execution_millis": 0,
    "execution_start": 1615384146945,
    "source_hash": "4ef1f7b4",
    "tags": []
   },
   "outputs": [],
   "source": [
    "class Weighted_Edge:\n",
    "\n",
    "    def __init__(self, v, w, weight):\n",
    "        self.v = v\n",
    "        self.w = w\n",
    "        self.weight = weight\n",
    "\n",
    "    def end(self):\n",
    "        return self.v\n",
    "\n",
    "    def otherPoint(self, v):\n",
    "        if(v == self.v):\n",
    "            return self.w\n",
    "        return self.v\n",
    "\n",
    "    def compareTo(self, edge):\n",
    "        if(self.weight > edge.weight):\n",
    "            return 1\n",
    "        elif(self.weight < edge.weight):\n",
    "            return -1\n",
    "        return 0\n",
    "\n",
    "\n",
    "class Weighted_Graph:\n",
    "\n",
    "    def __init__(self, V):\n",
    "        self.verticies = []\n",
    "        for i in range(V):\n",
    "            self.verticies.append([])\n",
    "\n",
    "    def addEdge(self, edge):\n",
    "        v = edge.end()\n",
    "        w = edge.otherPoint(v)\n",
    "        self.verticies[v].append(edge)\n",
    "        self.verticies[w].append(edge)\n",
    "\n",
    "    def adj(self, v):\n",
    "        return self.verticies[v]\n",
    "\n",
    "    def getNumOfVerticies(self):\n",
    "        return len(self.verticies)"
   ]
  },
  {
   "cell_type": "code",
   "execution_count": 3,
   "metadata": {
    "cell_id": "00003-f8efa4e7-33d7-48d7-95c6-e8990a60f7b8",
    "deepnote_cell_type": "code",
    "deepnote_to_be_reexecuted": false,
    "execution_millis": 0,
    "execution_start": 1615384146946,
    "source_hash": "c07b60bb",
    "tags": []
   },
   "outputs": [],
   "source": [
    "class DFS:\n",
    "\n",
    "    def __init__(self,graph,start,edgeToIgnore):\n",
    "        self.visited = [False for x in range(0,graph.getNumOfVerticies())]\n",
    "        self.edgeTo = [-1 for x in range(0, graph.getNumOfVerticies())]\n",
    "        self.search(graph, start, edgeToIgnore)\n",
    "\n",
    "    def search(self, graph, vertex, edgeToIgnore):\n",
    "        self.visited[vertex] = True\n",
    "        for edge in graph.adj(vertex):\n",
    "            if(edge == edgeToIgnore):\n",
    "                continue\n",
    "            if (not self.visited[edge.otherPoint(vertex)]):\n",
    "                self.search(graph, edge.otherPoint(vertex), edgeToIgnore)\n",
    "                self.edgeTo[edge.otherPoint(vertex)] = vertex\n",
    "\n",
    "    def isConnected(self, v):\n",
    "        return self.visited[v]\n",
    "\n",
    "    def pathTo(self,source , v):\n",
    "        if(not self.isConnected(v)):\n",
    "            return None\n",
    "        path = []\n",
    "        x = v\n",
    "        while(x != source):\n",
    "            path.insert(0, x)\n",
    "            x = self.edgeTo[x]\n",
    "        path.insert(0, source)\n",
    "        return path\n"
   ]
  },
  {
   "cell_type": "code",
   "execution_count": 4,
   "metadata": {
    "cell_id": "00004-918f1aa6-df9b-4136-a299-07d1053c5d8b",
    "deepnote_cell_type": "code",
    "deepnote_to_be_reexecuted": false,
    "execution_millis": 1,
    "execution_start": 1615384146968,
    "source_hash": "39d28c84",
    "tags": []
   },
   "outputs": [],
   "source": [
    "class PrimMST:\n",
    "\n",
    "    def __init__(self, graph):\n",
    "        self.marked = [False for x in range(len(graph.verticies))]\n",
    "        self.mst = []\n",
    "        self.pq = priorityQueueEdge()\n",
    "        self.visit(graph, 0)\n",
    "        while((not self.pq.isEmpty()) and len(self.mst) < graph.getNumOfVerticies()-1):\n",
    "            edge = self.pq.pop()\n",
    "            v = edge.end()\n",
    "            w = edge.otherPoint(v)\n",
    "            if(self.marked[v] and self.marked[w]):\n",
    "                continue\n",
    "            self.mst.append(edge)\n",
    "            if(not self.marked[v]):\n",
    "                self.visit(graph, v)\n",
    "            if(not self.marked[w]):\n",
    "                self.visit(graph, w)\n",
    "\n",
    "\n",
    "\n",
    "    def visit(self, graph, v):\n",
    "        self.marked[v] = True\n",
    "        for edge in graph.adj(v):\n",
    "            if(not self.marked[edge.otherPoint(v)]):\n",
    "                self.pq.insert(edge)\n",
    "\n",
    "    def edges(self):\n",
    "        return self.mst\n"
   ]
  },
  {
   "cell_type": "code",
   "execution_count": 5,
   "metadata": {
    "cell_id": "00005-1299f0aa-fa4e-4371-8755-e9f8ed3ea148",
    "deepnote_cell_type": "code",
    "deepnote_to_be_reexecuted": false,
    "execution_millis": 25,
    "execution_start": 1615384146970,
    "source_hash": "3e6b25a4",
    "tags": []
   },
   "outputs": [],
   "source": [
    "def findBridges(graph):\n",
    "    MST = PrimMST(graph)\n",
    "    bridges = []\n",
    "    edges = MST.edges()\n",
    "    for edge in edges:\n",
    "        dfs = DFS(graph, edge.end(), edge)\n",
    "        if(not dfs.isConnected(edge.otherPoint(edge.end()))):\n",
    "            bridges.append(edge)\n",
    "    return bridges    "
   ]
  },
  {
   "cell_type": "code",
   "execution_count": 7,
   "metadata": {
    "cell_id": "00006-5e3a3fb6-b4d0-44c1-bda6-0e579eefc63d",
    "deepnote_cell_type": "code",
    "deepnote_to_be_reexecuted": false,
    "execution_millis": 0,
    "execution_start": 1615384146971,
    "source_hash": "b623e53d",
    "tags": []
   },
   "outputs": [
    {
     "name": "stdout",
     "output_type": "stream",
     "text": [
      "0\n",
      "3\n"
     ]
    }
   ],
   "source": [
    "#Driver Code\n",
    "\n",
    "graph = Weighted_Graph(6)\n",
    "graph.addEdge(Weighted_Edge(0,1,1))\n",
    "graph.addEdge(Weighted_Edge(0,2,1))\n",
    "graph.addEdge(Weighted_Edge(1,2,1))\n",
    "graph.addEdge(Weighted_Edge(0,3,1))\n",
    "graph.addEdge(Weighted_Edge(3,4,1))\n",
    "graph.addEdge(Weighted_Edge(4,5,1))\n",
    "graph.addEdge(Weighted_Edge(5,3,1))\n",
    "\n",
    "bridges = findBridges(graph)\n",
    "for bridge in bridges:\n",
    "    print(bridge.end())\n",
    "    print(bridge.otherPoint(bridge.end()))"
   ]
  },
  {
   "cell_type": "markdown",
   "metadata": {
    "created_in_deepnote_cell": true,
    "deepnote_cell_type": "markdown",
    "tags": []
   },
   "source": [
    "<a style='text-decoration:none;line-height:16px;display:flex;color:#5B5B62;padding:10px;justify-content:end;' href='https://deepnote.com?utm_source=created-in-deepnote-cell&projectId=5adb5e30-5b60-4a29-aaa2-51cfd7a48c62' target=\"_blank\">\n",
    "<img style='display:inline;max-height:16px;margin:0px;margin-right:7.5px;' src='data:image/svg+xml;base64,PD94bWwgdmVyc2lvbj0iMS4wIiBlbmNvZGluZz0iVVRGLTgiPz4KPHN2ZyB3aWR0aD0iODBweCIgaGVpZ2h0PSI4MHB4IiB2aWV3Qm94PSIwIDAgODAgODAiIHZlcnNpb249IjEuMSIgeG1sbnM9Imh0dHA6Ly93d3cudzMub3JnLzIwMDAvc3ZnIiB4bWxuczp4bGluaz0iaHR0cDovL3d3dy53My5vcmcvMTk5OS94bGluayI+CiAgICA8IS0tIEdlbmVyYXRvcjogU2tldGNoIDU0LjEgKDc2NDkwKSAtIGh0dHBzOi8vc2tldGNoYXBwLmNvbSAtLT4KICAgIDx0aXRsZT5Hcm91cCAzPC90aXRsZT4KICAgIDxkZXNjPkNyZWF0ZWQgd2l0aCBTa2V0Y2guPC9kZXNjPgogICAgPGcgaWQ9IkxhbmRpbmciIHN0cm9rZT0ibm9uZSIgc3Ryb2tlLXdpZHRoPSIxIiBmaWxsPSJub25lIiBmaWxsLXJ1bGU9ImV2ZW5vZGQiPgogICAgICAgIDxnIGlkPSJBcnRib2FyZCIgdHJhbnNmb3JtPSJ0cmFuc2xhdGUoLTEyMzUuMDAwMDAwLCAtNzkuMDAwMDAwKSI+CiAgICAgICAgICAgIDxnIGlkPSJHcm91cC0zIiB0cmFuc2Zvcm09InRyYW5zbGF0ZSgxMjM1LjAwMDAwMCwgNzkuMDAwMDAwKSI+CiAgICAgICAgICAgICAgICA8cG9seWdvbiBpZD0iUGF0aC0yMCIgZmlsbD0iIzAyNjVCNCIgcG9pbnRzPSIyLjM3NjIzNzYyIDgwIDM4LjA0NzY2NjcgODAgNTcuODIxNzgyMiA3My44MDU3NTkyIDU3LjgyMTc4MjIgMzIuNzU5MjczOSAzOS4xNDAyMjc4IDMxLjY4MzE2ODMiPjwvcG9seWdvbj4KICAgICAgICAgICAgICAgIDxwYXRoIGQ9Ik0zNS4wMDc3MTgsODAgQzQyLjkwNjIwMDcsNzYuNDU0OTM1OCA0Ny41NjQ5MTY3LDcxLjU0MjI2NzEgNDguOTgzODY2LDY1LjI2MTk5MzkgQzUxLjExMjI4OTksNTUuODQxNTg0MiA0MS42NzcxNzk1LDQ5LjIxMjIyODQgMjUuNjIzOTg0Niw0OS4yMTIyMjg0IEMyNS40ODQ5Mjg5LDQ5LjEyNjg0NDggMjkuODI2MTI5Niw0My4yODM4MjQ4IDM4LjY0NzU4NjksMzEuNjgzMTY4MyBMNzIuODcxMjg3MSwzMi41NTQ0MjUgTDY1LjI4MDk3Myw2Ny42NzYzNDIxIEw1MS4xMTIyODk5LDc3LjM3NjE0NCBMMzUuMDA3NzE4LDgwIFoiIGlkPSJQYXRoLTIyIiBmaWxsPSIjMDAyODY4Ij48L3BhdGg+CiAgICAgICAgICAgICAgICA8cGF0aCBkPSJNMCwzNy43MzA0NDA1IEwyNy4xMTQ1MzcsMC4yNTcxMTE0MzYgQzYyLjM3MTUxMjMsLTEuOTkwNzE3MDEgODAsMTAuNTAwMzkyNyA4MCwzNy43MzA0NDA1IEM4MCw2NC45NjA0ODgyIDY0Ljc3NjUwMzgsNzkuMDUwMzQxNCAzNC4zMjk1MTEzLDgwIEM0Ny4wNTUzNDg5LDc3LjU2NzA4MDggNTMuNDE4MjY3Nyw3MC4zMTM2MTAzIDUzLjQxODI2NzcsNTguMjM5NTg4NSBDNTMuNDE4MjY3Nyw0MC4xMjg1NTU3IDM2LjMwMzk1NDQsMzcuNzMwNDQwNSAyNS4yMjc0MTcsMzcuNzMwNDQwNSBDMTcuODQzMDU4NiwzNy43MzA0NDA1IDkuNDMzOTE5NjYsMzcuNzMwNDQwNSAwLDM3LjczMDQ0MDUgWiIgaWQ9IlBhdGgtMTkiIGZpbGw9IiMzNzkzRUYiPjwvcGF0aD4KICAgICAgICAgICAgPC9nPgogICAgICAgIDwvZz4KICAgIDwvZz4KPC9zdmc+' > </img>\n",
    "Created in <span style='font-weight:600;margin-left:4px;'>Deepnote</span></a>"
   ]
  }
 ],
 "metadata": {
  "deepnote": {},
  "deepnote_execution_queue": [],
  "deepnote_notebook_id": "79de02fd-b5f7-41b3-9ee0-5603f3dff39e",
  "kernelspec": {
   "display_name": "Python 3",
   "language": "python",
   "name": "python3"
  },
  "language_info": {
   "codemirror_mode": {
    "name": "ipython",
    "version": 3
   },
   "file_extension": ".py",
   "mimetype": "text/x-python",
   "name": "python",
   "nbconvert_exporter": "python",
   "pygments_lexer": "ipython3",
   "version": "3.8.5"
  }
 },
 "nbformat": 4,
 "nbformat_minor": 2
}
